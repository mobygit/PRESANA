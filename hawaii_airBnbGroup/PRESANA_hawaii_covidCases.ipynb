{
  "nbformat": 4,
  "nbformat_minor": 0,
  "metadata": {
    "colab": {
      "name": "PRESANA_hawaii_covidCases.ipynb",
      "provenance": [],
      "collapsed_sections": []
    },
    "kernelspec": {
      "name": "python3",
      "display_name": "Python 3"
    },
    "language_info": {
      "name": "python"
    }
  },
  "cells": [
    {
      "cell_type": "code",
      "metadata": {
        "id": "SJcTXzvvij0I"
      },
      "source": [
        "from bs4 import BeautifulSoup\n",
        "import pandas as pd\n",
        "import matplotlib.pyplot as plt\n",
        "from google.colab import files\n",
        "import os"
      ],
      "execution_count": 2,
      "outputs": []
    },
    {
      "cell_type": "code",
      "metadata": {
        "colab": {
          "base_uri": "https://localhost:8080/"
        },
        "id": "vE_MTp1q_KTQ",
        "outputId": "c90d1b4e-44fd-44af-9726-10ef730b3e83"
      },
      "source": [
        "!git clone https://github.com/eliasezar27/PRESANA.git"
      ],
      "execution_count": 3,
      "outputs": [
        {
          "output_type": "stream",
          "name": "stdout",
          "text": [
            "Cloning into 'PRESANA'...\n",
            "remote: Enumerating objects: 131, done.\u001b[K\n",
            "remote: Counting objects: 100% (59/59), done.\u001b[K\n",
            "remote: Compressing objects: 100% (31/31), done.\u001b[K\n",
            "remote: Total 131 (delta 32), reused 55 (delta 28), pack-reused 72\u001b[K\n",
            "Receiving objects: 100% (131/131), 1.23 GiB | 33.90 MiB/s, done.\n",
            "Resolving deltas: 100% (45/45), done.\n",
            "Checking out files: 100% (52/52), done.\n"
          ]
        }
      ]
    },
    {
      "cell_type": "code",
      "metadata": {
        "id": "-rxMAI6m_xV2"
      },
      "source": [
        "base_dir = '/content/PRESANA/hawaii_airBnbGroup'"
      ],
      "execution_count": 4,
      "outputs": []
    },
    {
      "cell_type": "code",
      "metadata": {
        "id": "_sretwVHAH_I"
      },
      "source": [
        "hawaiiStatedoc = os.path.join(base_dir, 'hawaii_state_covid_cases.html')\n",
        "hawaiiCountydoc = os.path.join(base_dir, 'hawaii_county_covid_cases.html')\n",
        "honoluluCountydoc = os.path.join(base_dir, 'honolulu_county_covid_cases.html')\n",
        "mauiCountydoc = os.path.join(base_dir, 'maui_county_covid_cases.html')\n",
        "kauaiCountydoc = os.path.join(base_dir, 'kauai_county_covid_cases.html')"
      ],
      "execution_count": 8,
      "outputs": []
    },
    {
      "cell_type": "code",
      "metadata": {
        "id": "q51bwNcybSu_"
      },
      "source": [
        "def getCases(htmldoc):\n",
        "    with open(htmldoc) as fp:\n",
        "        soup = BeautifulSoup(fp, \"html.parser\")   \n",
        "    item = soup.find('g')\n",
        "\n",
        "    dates = []\n",
        "    cases = []\n",
        "    for i in item.find_all('g'):\n",
        "        dates.append(i[\"aria-label\"][18:30])\n",
        "        cases.append(i[\"aria-label\"][30:])\n",
        "\n",
        "    return dates, cases"
      ],
      "execution_count": 10,
      "outputs": []
    },
    {
      "cell_type": "code",
      "metadata": {
        "id": "0fXEr5rLfarj"
      },
      "source": [
        "dates, hawaiiState = getCases(hawaiiStatedoc)\n",
        "_, hawaiiCounty = getCases(hawaiiCountydoc)\n",
        "_, honoluluCounty = getCases(honoluluCountydoc)\n",
        "_, mauiCounty = getCases(mauiCountydoc)\n",
        "_, kauaiCounty = getCases(kauaiCountydoc)"
      ],
      "execution_count": 11,
      "outputs": []
    },
    {
      "cell_type": "code",
      "metadata": {
        "id": "NDWBfCfoid1a"
      },
      "source": [
        "covid_cases_hawaii = pd.DataFrame([])"
      ],
      "execution_count": 12,
      "outputs": []
    },
    {
      "cell_type": "code",
      "metadata": {
        "id": "6iTLQwMoj19J"
      },
      "source": [
        "covid_cases_hawaii['date'] = dates\n",
        "covid_cases_hawaii['date'] = pd.to_datetime(covid_cases_hawaii['date'])\n",
        "covid_cases_hawaii['hawaii'] = hawaiiCounty\n",
        "covid_cases_hawaii['honolulu'] = honoluluCounty\n",
        "covid_cases_hawaii['maui'] = mauiCounty\n",
        "covid_cases_hawaii['kauai'] = kauaiCounty\n",
        "covid_cases_hawaii['total'] = hawaiiState"
      ],
      "execution_count": 13,
      "outputs": []
    },
    {
      "cell_type": "code",
      "metadata": {
        "id": "s8k87O10j_MY"
      },
      "source": [
        "covid_cases_hawaii['hawaii'] = covid_cases_hawaii['hawaii'].map(lambda x: str(x).replace(',','')).astype(int)\n",
        "covid_cases_hawaii['honolulu'] = covid_cases_hawaii['honolulu'].map(lambda x: str(x).replace(',','')).astype(int)\n",
        "covid_cases_hawaii['maui'] = covid_cases_hawaii['maui'].map(lambda x: str(x).replace(',','')).astype(int)\n",
        "covid_cases_hawaii['kauai'] = covid_cases_hawaii['kauai'].map(lambda x: str(x).replace(',','')).astype(int)\n",
        "covid_cases_hawaii['total'] = covid_cases_hawaii['total'].map(lambda x: str(x).replace(',','')).astype(int)\n",
        "covid_cases_hawaii = covid_cases_hawaii[covid_cases_hawaii['date'] < '2021-12-04']"
      ],
      "execution_count": 25,
      "outputs": []
    },
    {
      "cell_type": "code",
      "metadata": {
        "colab": {
          "base_uri": "https://localhost:8080/",
          "height": 419
        },
        "id": "qOiS0YYbD6nu",
        "outputId": "b5671fca-5cb9-464e-b875-5e43a8ca73f0"
      },
      "source": [
        "covid_cases_hawaii"
      ],
      "execution_count": 26,
      "outputs": [
        {
          "output_type": "execute_result",
          "data": {
            "text/html": [
              "<div>\n",
              "<style scoped>\n",
              "    .dataframe tbody tr th:only-of-type {\n",
              "        vertical-align: middle;\n",
              "    }\n",
              "\n",
              "    .dataframe tbody tr th {\n",
              "        vertical-align: top;\n",
              "    }\n",
              "\n",
              "    .dataframe thead th {\n",
              "        text-align: right;\n",
              "    }\n",
              "</style>\n",
              "<table border=\"1\" class=\"dataframe\">\n",
              "  <thead>\n",
              "    <tr style=\"text-align: right;\">\n",
              "      <th></th>\n",
              "      <th>date</th>\n",
              "      <th>hawaii</th>\n",
              "      <th>honolulu</th>\n",
              "      <th>maui</th>\n",
              "      <th>kauai</th>\n",
              "      <th>total</th>\n",
              "    </tr>\n",
              "  </thead>\n",
              "  <tbody>\n",
              "    <tr>\n",
              "      <th>0</th>\n",
              "      <td>2020-03-03</td>\n",
              "      <td>0</td>\n",
              "      <td>0</td>\n",
              "      <td>1</td>\n",
              "      <td>0</td>\n",
              "      <td>1</td>\n",
              "    </tr>\n",
              "    <tr>\n",
              "      <th>1</th>\n",
              "      <td>2020-03-04</td>\n",
              "      <td>0</td>\n",
              "      <td>0</td>\n",
              "      <td>0</td>\n",
              "      <td>0</td>\n",
              "      <td>0</td>\n",
              "    </tr>\n",
              "    <tr>\n",
              "      <th>2</th>\n",
              "      <td>2020-03-05</td>\n",
              "      <td>0</td>\n",
              "      <td>0</td>\n",
              "      <td>0</td>\n",
              "      <td>0</td>\n",
              "      <td>0</td>\n",
              "    </tr>\n",
              "    <tr>\n",
              "      <th>3</th>\n",
              "      <td>2020-03-06</td>\n",
              "      <td>0</td>\n",
              "      <td>1</td>\n",
              "      <td>0</td>\n",
              "      <td>0</td>\n",
              "      <td>1</td>\n",
              "    </tr>\n",
              "    <tr>\n",
              "      <th>4</th>\n",
              "      <td>2020-03-07</td>\n",
              "      <td>0</td>\n",
              "      <td>0</td>\n",
              "      <td>0</td>\n",
              "      <td>0</td>\n",
              "      <td>0</td>\n",
              "    </tr>\n",
              "    <tr>\n",
              "      <th>...</th>\n",
              "      <td>...</td>\n",
              "      <td>...</td>\n",
              "      <td>...</td>\n",
              "      <td>...</td>\n",
              "      <td>...</td>\n",
              "      <td>...</td>\n",
              "    </tr>\n",
              "    <tr>\n",
              "      <th>636</th>\n",
              "      <td>2021-11-29</td>\n",
              "      <td>2</td>\n",
              "      <td>26</td>\n",
              "      <td>14</td>\n",
              "      <td>25</td>\n",
              "      <td>67</td>\n",
              "    </tr>\n",
              "    <tr>\n",
              "      <th>637</th>\n",
              "      <td>2021-11-30</td>\n",
              "      <td>3</td>\n",
              "      <td>46</td>\n",
              "      <td>19</td>\n",
              "      <td>9</td>\n",
              "      <td>77</td>\n",
              "    </tr>\n",
              "    <tr>\n",
              "      <th>638</th>\n",
              "      <td>2021-12-01</td>\n",
              "      <td>17</td>\n",
              "      <td>51</td>\n",
              "      <td>18</td>\n",
              "      <td>26</td>\n",
              "      <td>112</td>\n",
              "    </tr>\n",
              "    <tr>\n",
              "      <th>639</th>\n",
              "      <td>2021-12-02</td>\n",
              "      <td>10</td>\n",
              "      <td>58</td>\n",
              "      <td>14</td>\n",
              "      <td>18</td>\n",
              "      <td>100</td>\n",
              "    </tr>\n",
              "    <tr>\n",
              "      <th>640</th>\n",
              "      <td>2021-12-03</td>\n",
              "      <td>20</td>\n",
              "      <td>54</td>\n",
              "      <td>19</td>\n",
              "      <td>13</td>\n",
              "      <td>106</td>\n",
              "    </tr>\n",
              "  </tbody>\n",
              "</table>\n",
              "<p>641 rows × 6 columns</p>\n",
              "</div>"
            ],
            "text/plain": [
              "          date  hawaii  honolulu  maui  kauai  total\n",
              "0   2020-03-03       0         0     1      0      1\n",
              "1   2020-03-04       0         0     0      0      0\n",
              "2   2020-03-05       0         0     0      0      0\n",
              "3   2020-03-06       0         1     0      0      1\n",
              "4   2020-03-07       0         0     0      0      0\n",
              "..         ...     ...       ...   ...    ...    ...\n",
              "636 2021-11-29       2        26    14     25     67\n",
              "637 2021-11-30       3        46    19      9     77\n",
              "638 2021-12-01      17        51    18     26    112\n",
              "639 2021-12-02      10        58    14     18    100\n",
              "640 2021-12-03      20        54    19     13    106\n",
              "\n",
              "[641 rows x 6 columns]"
            ]
          },
          "metadata": {},
          "execution_count": 26
        }
      ]
    },
    {
      "cell_type": "code",
      "metadata": {
        "colab": {
          "base_uri": "https://localhost:8080/"
        },
        "id": "-rQ0hHdICrht",
        "outputId": "db4eaada-6181-4dbf-f689-f77e37b2ae56"
      },
      "source": [
        "covid_cases_hawaii.info()"
      ],
      "execution_count": 27,
      "outputs": [
        {
          "output_type": "stream",
          "name": "stdout",
          "text": [
            "<class 'pandas.core.frame.DataFrame'>\n",
            "Int64Index: 641 entries, 0 to 640\n",
            "Data columns (total 6 columns):\n",
            " #   Column    Non-Null Count  Dtype         \n",
            "---  ------    --------------  -----         \n",
            " 0   date      641 non-null    datetime64[ns]\n",
            " 1   hawaii    641 non-null    int64         \n",
            " 2   honolulu  641 non-null    int64         \n",
            " 3   maui      641 non-null    int64         \n",
            " 4   kauai     641 non-null    int64         \n",
            " 5   total     641 non-null    int64         \n",
            "dtypes: datetime64[ns](1), int64(5)\n",
            "memory usage: 35.1 KB\n"
          ]
        }
      ]
    },
    {
      "cell_type": "code",
      "metadata": {
        "colab": {
          "base_uri": "https://localhost:8080/",
          "height": 320
        },
        "id": "wJds1aRLkBQB",
        "outputId": "37a3fe95-d95b-48b9-d5ba-d588d94d5a93"
      },
      "source": [
        "plt.figure(figsize=(20,5))\n",
        "plt.bar(covid_cases_hawaii['date'], covid_cases_hawaii['total'])\n",
        "plt.show()"
      ],
      "execution_count": 28,
      "outputs": [
        {
          "output_type": "display_data",
          "data": {
            "image/png": "[encoded data removed]",
            "text/plain": [
              "<Figure size 1440x360 with 1 Axes>"
            ]
          },
          "metadata": {
            "needs_background": "light"
          }
        }
      ]
    },
    {
      "cell_type": "code",
      "metadata": {
        "colab": {
          "base_uri": "https://localhost:8080/",
          "height": 17
        },
        "id": "AU4KdcOFroVo",
        "outputId": "1cf636e9-2633-469e-f234-3082fe6a526e"
      },
      "source": [
        "csv_file=os.path.join(base_dir, \"hawaii_covid_cases.csv\")\n",
        "covid_cases_hawaii.to_csv(csv_file, index=False)\n",
        "files.download(csv_file)"
      ],
      "execution_count": 29,
      "outputs": [
        {
          "output_type": "display_data",
          "data": {
            "application/javascript": [
              "\n",
              "    async function download(id, filename, size) {\n",
              "      if (!google.colab.kernel.accessAllowed) {\n",
              "        return;\n",
              "      }\n",
              "      const div = document.createElement('div');\n",
              "      const label = document.createElement('label');\n",
              "      label.textContent = `Downloading \"${filename}\": `;\n",
              "      div.appendChild(label);\n",
              "      const progress = document.createElement('progress');\n",
              "      progress.max = size;\n",
              "      div.appendChild(progress);\n",
              "      document.body.appendChild(div);\n",
              "\n",
              "      const buffers = [];\n",
              "      let downloaded = 0;\n",
              "\n",
              "      const channel = await google.colab.kernel.comms.open(id);\n",
              "      // Send a message to notify the kernel that we're ready.\n",
              "      channel.send({})\n",
              "\n",
              "      for await (const message of channel.messages) {\n",
              "        // Send a message to notify the kernel that we're ready.\n",
              "        channel.send({})\n",
              "        if (message.buffers) {\n",
              "          for (const buffer of message.buffers) {\n",
              "            buffers.push(buffer);\n",
              "            downloaded += buffer.byteLength;\n",
              "            progress.value = downloaded;\n",
              "          }\n",
              "        }\n",
              "      }\n",
              "      const blob = new Blob(buffers, {type: 'application/binary'});\n",
              "      const a = document.createElement('a');\n",
              "      a.href = window.URL.createObjectURL(blob);\n",
              "      a.download = filename;\n",
              "      div.appendChild(a);\n",
              "      a.click();\n",
              "      div.remove();\n",
              "    }\n",
              "  "
            ],
            "text/plain": [
              "<IPython.core.display.Javascript object>"
            ]
          },
          "metadata": {}
        },
        {
          "output_type": "display_data",
          "data": {
            "application/javascript": [
              "download(\"download_ce9f0599-b2f2-4600-9e9b-2ec35692ca92\", \"hawaii_covid_cases.csv\", 15748)"
            ],
            "text/plain": [
              "<IPython.core.display.Javascript object>"
            ]
          },
          "metadata": {}
        }
      ]
    }
  ]
}