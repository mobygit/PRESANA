{
  "nbformat": 4,
  "nbformat_minor": 0,
  "metadata": {
    "colab": {
      "name": "PRESANA_hawaii_airBnbmerge.ipynb",
      "provenance": [],
      "collapsed_sections": []
    },
    "kernelspec": {
      "name": "python3",
      "display_name": "Python 3"
    },
    "language_info": {
      "name": "python"
    }
  },
  "cells": [
    {
      "cell_type": "code",
      "metadata": {
        "id": "2IVJw5tQJnrU"
      },
      "source": [
        "import gzip\n",
        "import pandas as pd\n",
        "import shutil\n",
        "import os\n",
        "from google.colab import files\n",
        "import numpy as np"
      ],
      "execution_count": 1,
      "outputs": []
    },
    {
      "cell_type": "code",
      "metadata": {
        "id": "zYYd_pP9JUNn",
        "colab": {
          "base_uri": "https://localhost:8080/"
        },
        "outputId": "24637df7-b114-4c82-dbeb-17df88d3a78d"
      },
      "source": [
        "!git clone https://github.com/eliasezar27/PRESANA.git"
      ],
      "execution_count": 2,
      "outputs": [
        {
          "output_type": "stream",
          "name": "stdout",
          "text": [
            "Cloning into 'PRESANA'...\n",
            "remote: Enumerating objects: 118, done.\u001b[K\n",
            "remote: Counting objects: 100% (46/46), done.\u001b[K\n",
            "remote: Compressing objects: 100% (27/27), done.\u001b[K\n",
            "remote: Total 118 (delta 23), reused 42 (delta 19), pack-reused 72\u001b[K\n",
            "Receiving objects: 100% (118/118), 1.23 GiB | 40.54 MiB/s, done.\n",
            "Resolving deltas: 100% (36/36), done.\n",
            "Checking out files: 100% (48/48), done.\n"
          ]
        }
      ]
    },
    {
      "cell_type": "code",
      "metadata": {
        "id": "8oYZ1NiT5SDK"
      },
      "source": [
        "base_dir = '/content/PRESANA/hawaii_airBnbGroup'\n",
        "gz_files_dir = os.path.join(base_dir, 'hawaii_airbnbopendataset')"
      ],
      "execution_count": 3,
      "outputs": []
    },
    {
      "cell_type": "code",
      "metadata": {
        "id": "4I_H9Azk4WXJ"
      },
      "source": [
        "def gzipTocsv(gz_file, csv_file):\n",
        "    with gzip.open(gz_file, 'rb') as f_in:\n",
        "        with open(csv_file, 'wb') as f_out:\n",
        "            shutil.copyfileobj(f_in, f_out)"
      ],
      "execution_count": 4,
      "outputs": []
    },
    {
      "cell_type": "code",
      "metadata": {
        "id": "JAtabso48ALY"
      },
      "source": [
        "for i in os.listdir(gz_files_dir):\n",
        "    gz_file = os.path.join(gz_files_dir, i)\n",
        "    csv_file = os.path.join(gz_files_dir, i[:-3])\n",
        "    gzipTocsv(gz_file, csv_file)"
      ],
      "execution_count": 5,
      "outputs": []
    },
    {
      "cell_type": "code",
      "metadata": {
        "id": "acEVkLUPyLK4"
      },
      "source": [
        "csvList = os.listdir(gz_files_dir)\n",
        "csvList.sort()"
      ],
      "execution_count": 7,
      "outputs": []
    },
    {
      "cell_type": "markdown",
      "metadata": {
        "id": "tp3LiXI9tOI8"
      },
      "source": [
        "### **Calendar Data Merging**"
      ]
    },
    {
      "cell_type": "code",
      "metadata": {
        "id": "SfI9GmQpI0s3"
      },
      "source": [
        "calendar_df = pd.DataFrame([])\n",
        "for j in csvList:\n",
        "    if \"calendar\" in j and not \"gz\" in j:\n",
        "        indiv_calendar = pd.read_csv(os.path.join(gz_files_dir, j))\n",
        "        calendar_df = pd.concat([calendar_df, indiv_calendar])\n",
        "        calendar_df = calendar_df.drop_duplicates(subset=['listing_id', 'date'], keep='last')"
      ],
      "execution_count": null,
      "outputs": []
    },
    {
      "cell_type": "code",
      "metadata": {
        "colab": {
          "base_uri": "https://localhost:8080/"
        },
        "id": "m8XUALMwM0Zn",
        "outputId": "74bc9a32-fd14-4d7a-f12a-a4a54ac0affc"
      },
      "source": [
        "calendar_df['date'] = pd.to_datetime(calendar_df['date'])\n",
        "calendar_df['date'].min(), calendar_df['date'].max()"
      ],
      "execution_count": null,
      "outputs": [
        {
          "output_type": "execute_result",
          "data": {
            "text/plain": [
              "(Timestamp('2020-12-19 00:00:00'), Timestamp('2022-10-16 00:00:00'))"
            ]
          },
          "metadata": {},
          "execution_count": 7
        }
      ]
    },
    {
      "cell_type": "code",
      "metadata": {
        "id": "u_DBRzEonH5Y"
      },
      "source": [
        "calendar_df = calendar_df.drop(columns=['price', 'minimum_nights', 'maximum_nights'])\n",
        "calendar_df['adjusted_price'] = calendar_df['adjusted_price'].map(lambda x: str(x).strip('$').replace(',',''))\n",
        "calendar_df = calendar_df.sort_values(['date','listing_id'])\n",
        "calendar_df = calendar_df[calendar_df['date'] < '2021-12-04']\n",
        "calendar_df = calendar_df.reset_index(drop=True)"
      ],
      "execution_count": null,
      "outputs": []
    },
    {
      "cell_type": "code",
      "metadata": {
        "colab": {
          "base_uri": "https://localhost:8080/"
        },
        "id": "sEWlGRiI02-M",
        "outputId": "a990a4d4-2b6f-4548-ce9d-9e039646150b"
      },
      "source": [
        "print(\"Data is from\", calendar_df['date'].min(), \" to \", calendar_df['date'].max())\n",
        "calendar_df.info()"
      ],
      "execution_count": null,
      "outputs": [
        {
          "output_type": "stream",
          "name": "stdout",
          "text": [
            "Data is from 2020-12-19 00:00:00  to  2021-12-03 00:00:00\n",
            "<class 'pandas.core.frame.DataFrame'>\n",
            "RangeIndex: 9300867 entries, 0 to 9300866\n",
            "Data columns (total 4 columns):\n",
            " #   Column          Dtype         \n",
            "---  ------          -----         \n",
            " 0   listing_id      int64         \n",
            " 1   date            datetime64[ns]\n",
            " 2   available       object        \n",
            " 3   adjusted_price  object        \n",
            "dtypes: datetime64[ns](1), int64(1), object(2)\n",
            "memory usage: 283.8+ MB\n"
          ]
        }
      ]
    },
    {
      "cell_type": "code",
      "metadata": {
        "colab": {
          "base_uri": "https://localhost:8080/",
          "height": 17
        },
        "id": "COpzsC2tLE96",
        "outputId": "c5bf4c37-2f22-4dd6-8eb7-b847f7782d48"
      },
      "source": [
        "prtn1, prtn2, prtn3, prtn4 = np.array_split(calendar_df, 4)\n",
        "\n",
        "calendar_df1 = pd.DataFrame(prtn1)\n",
        "calendar_df2 = pd.DataFrame(prtn2)\n",
        "calendar_df3 = pd.DataFrame(prtn3)\n",
        "calendar_df4 = pd.DataFrame(prtn4)\n",
        "\n",
        "calendar_df1.to_csv(os.path.join(base_dir, 'calendar_main_part1.csv'), index=False)\n",
        "calendar_df2.to_csv(os.path.join(base_dir, 'calendar_main_part2.csv'), index=False)\n",
        "calendar_df3.to_csv(os.path.join(base_dir, 'calendar_main_part3.csv'), index=False)\n",
        "calendar_df4.to_csv(os.path.join(base_dir, 'calendar_main_part4.csv'), index=False)\n",
        "\n",
        "files.download(os.path.join(base_dir, 'calendar_main_part1.csv'))\n",
        "files.download(os.path.join(base_dir, 'calendar_main_part2.csv'))\n",
        "files.download(os.path.join(base_dir, 'calendar_main_part3.csv'))\n",
        "files.download(os.path.join(base_dir, 'calendar_main_part4.csv'))"
      ],
      "execution_count": null,
      "outputs": [
        {
          "output_type": "display_data",
          "data": {
            "application/javascript": [
              "\n",
              "    async function download(id, filename, size) {\n",
              "      if (!google.colab.kernel.accessAllowed) {\n",
              "        return;\n",
              "      }\n",
              "      const div = document.createElement('div');\n",
              "      const label = document.createElement('label');\n",
              "      label.textContent = `Downloading \"${filename}\": `;\n",
              "      div.appendChild(label);\n",
              "      const progress = document.createElement('progress');\n",
              "      progress.max = size;\n",
              "      div.appendChild(progress);\n",
              "      document.body.appendChild(div);\n",
              "\n",
              "      const buffers = [];\n",
              "      let downloaded = 0;\n",
              "\n",
              "      const channel = await google.colab.kernel.comms.open(id);\n",
              "      // Send a message to notify the kernel that we're ready.\n",
              "      channel.send({})\n",
              "\n",
              "      for await (const message of channel.messages) {\n",
              "        // Send a message to notify the kernel that we're ready.\n",
              "        channel.send({})\n",
              "        if (message.buffers) {\n",
              "          for (const buffer of message.buffers) {\n",
              "            buffers.push(buffer);\n",
              "            downloaded += buffer.byteLength;\n",
              "            progress.value = downloaded;\n",
              "          }\n",
              "        }\n",
              "      }\n",
              "      const blob = new Blob(buffers, {type: 'application/binary'});\n",
              "      const a = document.createElement('a');\n",
              "      a.href = window.URL.createObjectURL(blob);\n",
              "      a.download = filename;\n",
              "      div.appendChild(a);\n",
              "      a.click();\n",
              "      div.remove();\n",
              "    }\n",
              "  "
            ],
            "text/plain": [
              "<IPython.core.display.Javascript object>"
            ]
          },
          "metadata": {}
        },
        {
          "output_type": "display_data",
          "data": {
            "application/javascript": [
              "download(\"download_aec2e3b7-4329-4a21-b24d-2d8010b6f9fc\", \"calendar_main_part1.csv\", 66886203)"
            ],
            "text/plain": [
              "<IPython.core.display.Javascript object>"
            ]
          },
          "metadata": {}
        },
        {
          "output_type": "display_data",
          "data": {
            "application/javascript": [
              "\n",
              "    async function download(id, filename, size) {\n",
              "      if (!google.colab.kernel.accessAllowed) {\n",
              "        return;\n",
              "      }\n",
              "      const div = document.createElement('div');\n",
              "      const label = document.createElement('label');\n",
              "      label.textContent = `Downloading \"${filename}\": `;\n",
              "      div.appendChild(label);\n",
              "      const progress = document.createElement('progress');\n",
              "      progress.max = size;\n",
              "      div.appendChild(progress);\n",
              "      document.body.appendChild(div);\n",
              "\n",
              "      const buffers = [];\n",
              "      let downloaded = 0;\n",
              "\n",
              "      const channel = await google.colab.kernel.comms.open(id);\n",
              "      // Send a message to notify the kernel that we're ready.\n",
              "      channel.send({})\n",
              "\n",
              "      for await (const message of channel.messages) {\n",
              "        // Send a message to notify the kernel that we're ready.\n",
              "        channel.send({})\n",
              "        if (message.buffers) {\n",
              "          for (const buffer of message.buffers) {\n",
              "            buffers.push(buffer);\n",
              "            downloaded += buffer.byteLength;\n",
              "            progress.value = downloaded;\n",
              "          }\n",
              "        }\n",
              "      }\n",
              "      const blob = new Blob(buffers, {type: 'application/binary'});\n",
              "      const a = document.createElement('a');\n",
              "      a.href = window.URL.createObjectURL(blob);\n",
              "      a.download = filename;\n",
              "      div.appendChild(a);\n",
              "      a.click();\n",
              "      div.remove();\n",
              "    }\n",
              "  "
            ],
            "text/plain": [
              "<IPython.core.display.Javascript object>"
            ]
          },
          "metadata": {}
        },
        {
          "output_type": "display_data",
          "data": {
            "application/javascript": [
              "download(\"download_f1a4bdc9-cb5d-475c-abe4-b4b05d5b3db4\", \"calendar_main_part2.csv\", 66948729)"
            ],
            "text/plain": [
              "<IPython.core.display.Javascript object>"
            ]
          },
          "metadata": {}
        },
        {
          "output_type": "display_data",
          "data": {
            "application/javascript": [
              "\n",
              "    async function download(id, filename, size) {\n",
              "      if (!google.colab.kernel.accessAllowed) {\n",
              "        return;\n",
              "      }\n",
              "      const div = document.createElement('div');\n",
              "      const label = document.createElement('label');\n",
              "      label.textContent = `Downloading \"${filename}\": `;\n",
              "      div.appendChild(label);\n",
              "      const progress = document.createElement('progress');\n",
              "      progress.max = size;\n",
              "      div.appendChild(progress);\n",
              "      document.body.appendChild(div);\n",
              "\n",
              "      const buffers = [];\n",
              "      let downloaded = 0;\n",
              "\n",
              "      const channel = await google.colab.kernel.comms.open(id);\n",
              "      // Send a message to notify the kernel that we're ready.\n",
              "      channel.send({})\n",
              "\n",
              "      for await (const message of channel.messages) {\n",
              "        // Send a message to notify the kernel that we're ready.\n",
              "        channel.send({})\n",
              "        if (message.buffers) {\n",
              "          for (const buffer of message.buffers) {\n",
              "            buffers.push(buffer);\n",
              "            downloaded += buffer.byteLength;\n",
              "            progress.value = downloaded;\n",
              "          }\n",
              "        }\n",
              "      }\n",
              "      const blob = new Blob(buffers, {type: 'application/binary'});\n",
              "      const a = document.createElement('a');\n",
              "      a.href = window.URL.createObjectURL(blob);\n",
              "      a.download = filename;\n",
              "      div.appendChild(a);\n",
              "      a.click();\n",
              "      div.remove();\n",
              "    }\n",
              "  "
            ],
            "text/plain": [
              "<IPython.core.display.Javascript object>"
            ]
          },
          "metadata": {}
        },
        {
          "output_type": "display_data",
          "data": {
            "application/javascript": [
              "download(\"download_a174cba4-5a85-4ba0-bb2c-497ebc0c404c\", \"calendar_main_part3.csv\", 67040623)"
            ],
            "text/plain": [
              "<IPython.core.display.Javascript object>"
            ]
          },
          "metadata": {}
        },
        {
          "output_type": "display_data",
          "data": {
            "application/javascript": [
              "\n",
              "    async function download(id, filename, size) {\n",
              "      if (!google.colab.kernel.accessAllowed) {\n",
              "        return;\n",
              "      }\n",
              "      const div = document.createElement('div');\n",
              "      const label = document.createElement('label');\n",
              "      label.textContent = `Downloading \"${filename}\": `;\n",
              "      div.appendChild(label);\n",
              "      const progress = document.createElement('progress');\n",
              "      progress.max = size;\n",
              "      div.appendChild(progress);\n",
              "      document.body.appendChild(div);\n",
              "\n",
              "      const buffers = [];\n",
              "      let downloaded = 0;\n",
              "\n",
              "      const channel = await google.colab.kernel.comms.open(id);\n",
              "      // Send a message to notify the kernel that we're ready.\n",
              "      channel.send({})\n",
              "\n",
              "      for await (const message of channel.messages) {\n",
              "        // Send a message to notify the kernel that we're ready.\n",
              "        channel.send({})\n",
              "        if (message.buffers) {\n",
              "          for (const buffer of message.buffers) {\n",
              "            buffers.push(buffer);\n",
              "            downloaded += buffer.byteLength;\n",
              "            progress.value = downloaded;\n",
              "          }\n",
              "        }\n",
              "      }\n",
              "      const blob = new Blob(buffers, {type: 'application/binary'});\n",
              "      const a = document.createElement('a');\n",
              "      a.href = window.URL.createObjectURL(blob);\n",
              "      a.download = filename;\n",
              "      div.appendChild(a);\n",
              "      a.click();\n",
              "      div.remove();\n",
              "    }\n",
              "  "
            ],
            "text/plain": [
              "<IPython.core.display.Javascript object>"
            ]
          },
          "metadata": {}
        },
        {
          "output_type": "display_data",
          "data": {
            "application/javascript": [
              "download(\"download_50d351b6-1b00-461c-b043-d7fde82c77cb\", \"calendar_main_part4.csv\", 67032777)"
            ],
            "text/plain": [
              "<IPython.core.display.Javascript object>"
            ]
          },
          "metadata": {}
        }
      ]
    },
    {
      "cell_type": "markdown",
      "metadata": {
        "id": "AdT1kG82tc-u"
      },
      "source": [
        "### **Listings Data Merging**"
      ]
    },
    {
      "cell_type": "code",
      "metadata": {
        "id": "SASflhH-tf-6"
      },
      "source": [
        "listings_df = pd.DataFrame([])\n",
        "for j in csvList:\n",
        "    if \"listings\" in j and not \"gz\" in j:\n",
        "        indiv_listings = pd.read_csv(os.path.join(gz_files_dir, j))\n",
        "        listings_df = pd.concat([listings_df, indiv_listings])\n",
        "        listings_df = listings_df.drop_duplicates(subset=['id'], keep='last')"
      ],
      "execution_count": 8,
      "outputs": []
    },
    {
      "cell_type": "code",
      "metadata": {
        "id": "0UeAjLNyOlCL",
        "colab": {
          "base_uri": "https://localhost:8080/"
        },
        "outputId": "aadc1fed-77cc-43be-d802-735c76f888da"
      },
      "source": [
        "listings_df['price'] = listings_df['price'].map(lambda x: str(x).strip('$').replace(',',''))\n",
        "listings_df = listings_df.sort_values(['id'])\n",
        "listings_df = listings_df.reset_index(drop=True)\n",
        "listings_df.info()"
      ],
      "execution_count": 9,
      "outputs": [
        {
          "output_type": "stream",
          "name": "stdout",
          "text": [
            "<class 'pandas.core.frame.DataFrame'>\n",
            "RangeIndex: 31450 entries, 0 to 31449\n",
            "Data columns (total 74 columns):\n",
            " #   Column                                        Non-Null Count  Dtype  \n",
            "---  ------                                        --------------  -----  \n",
            " 0   id                                            31450 non-null  int64  \n",
            " 1   listing_url                                   31450 non-null  object \n",
            " 2   scrape_id                                     31450 non-null  int64  \n",
            " 3   last_scraped                                  31450 non-null  object \n",
            " 4   name                                          31450 non-null  object \n",
            " 5   description                                   31077 non-null  object \n",
            " 6   neighborhood_overview                         17223 non-null  object \n",
            " 7   picture_url                                   31450 non-null  object \n",
            " 8   host_id                                       31450 non-null  int64  \n",
            " 9   host_url                                      31450 non-null  object \n",
            " 10  host_name                                     31251 non-null  object \n",
            " 11  host_since                                    31251 non-null  object \n",
            " 12  host_location                                 31215 non-null  object \n",
            " 13  host_about                                    22121 non-null  object \n",
            " 14  host_response_time                            26806 non-null  object \n",
            " 15  host_response_rate                            26806 non-null  object \n",
            " 16  host_acceptance_rate                          27476 non-null  object \n",
            " 17  host_is_superhost                             31251 non-null  object \n",
            " 18  host_thumbnail_url                            31251 non-null  object \n",
            " 19  host_picture_url                              31251 non-null  object \n",
            " 20  host_neighbourhood                            26260 non-null  object \n",
            " 21  host_listings_count                           31251 non-null  float64\n",
            " 22  host_total_listings_count                     31251 non-null  float64\n",
            " 23  host_verifications                            31450 non-null  object \n",
            " 24  host_has_profile_pic                          31251 non-null  object \n",
            " 25  host_identity_verified                        31251 non-null  object \n",
            " 26  neighbourhood                                 17223 non-null  object \n",
            " 27  neighbourhood_cleansed                        31450 non-null  object \n",
            " 28  neighbourhood_group_cleansed                  31450 non-null  object \n",
            " 29  latitude                                      31450 non-null  float64\n",
            " 30  longitude                                     31450 non-null  float64\n",
            " 31  property_type                                 31450 non-null  object \n",
            " 32  room_type                                     31450 non-null  object \n",
            " 33  accommodates                                  31450 non-null  int64  \n",
            " 34  bathrooms                                     0 non-null      float64\n",
            " 35  bathrooms_text                                31410 non-null  object \n",
            " 36  bedrooms                                      27046 non-null  float64\n",
            " 37  beds                                          31346 non-null  float64\n",
            " 38  amenities                                     31450 non-null  object \n",
            " 39  price                                         31450 non-null  object \n",
            " 40  minimum_nights                                31450 non-null  int64  \n",
            " 41  maximum_nights                                31450 non-null  int64  \n",
            " 42  minimum_minimum_nights                        31449 non-null  float64\n",
            " 43  maximum_minimum_nights                        31449 non-null  float64\n",
            " 44  minimum_maximum_nights                        31449 non-null  float64\n",
            " 45  maximum_maximum_nights                        31449 non-null  float64\n",
            " 46  minimum_nights_avg_ntm                        31449 non-null  float64\n",
            " 47  maximum_nights_avg_ntm                        31449 non-null  float64\n",
            " 48  calendar_updated                              0 non-null      float64\n",
            " 49  has_availability                              31450 non-null  object \n",
            " 50  availability_30                               31450 non-null  int64  \n",
            " 51  availability_60                               31450 non-null  int64  \n",
            " 52  availability_90                               31450 non-null  int64  \n",
            " 53  availability_365                              31450 non-null  int64  \n",
            " 54  calendar_last_scraped                         31450 non-null  object \n",
            " 55  number_of_reviews                             31450 non-null  int64  \n",
            " 56  number_of_reviews_ltm                         31450 non-null  int64  \n",
            " 57  number_of_reviews_l30d                        31450 non-null  int64  \n",
            " 58  first_review                                  24104 non-null  object \n",
            " 59  last_review                                   24104 non-null  object \n",
            " 60  review_scores_rating                          24037 non-null  float64\n",
            " 61  review_scores_accuracy                        23924 non-null  float64\n",
            " 62  review_scores_cleanliness                     23924 non-null  float64\n",
            " 63  review_scores_checkin                         23920 non-null  float64\n",
            " 64  review_scores_communication                   23923 non-null  float64\n",
            " 65  review_scores_location                        23920 non-null  float64\n",
            " 66  review_scores_value                           23919 non-null  float64\n",
            " 67  license                                       21582 non-null  object \n",
            " 68  instant_bookable                              31450 non-null  object \n",
            " 69  calculated_host_listings_count                31450 non-null  int64  \n",
            " 70  calculated_host_listings_count_entire_homes   31450 non-null  int64  \n",
            " 71  calculated_host_listings_count_private_rooms  31450 non-null  int64  \n",
            " 72  calculated_host_listings_count_shared_rooms   31450 non-null  int64  \n",
            " 73  reviews_per_month                             24104 non-null  float64\n",
            "dtypes: float64(22), int64(17), object(35)\n",
            "memory usage: 17.8+ MB\n"
          ]
        }
      ]
    },
    {
      "cell_type": "code",
      "metadata": {
        "colab": {
          "base_uri": "https://localhost:8080/",
          "height": 17
        },
        "id": "MUpgCQT4Otuo",
        "outputId": "1d7e68c5-990f-43b4-e20d-175b9463a11c"
      },
      "source": [
        "listings_df.to_csv(os.path.join(base_dir, 'listings_main.csv'), index=False)\n",
        "files.download(os.path.join(base_dir, 'listings_main.csv'))"
      ],
      "execution_count": 10,
      "outputs": [
        {
          "output_type": "display_data",
          "data": {
            "application/javascript": [
              "\n",
              "    async function download(id, filename, size) {\n",
              "      if (!google.colab.kernel.accessAllowed) {\n",
              "        return;\n",
              "      }\n",
              "      const div = document.createElement('div');\n",
              "      const label = document.createElement('label');\n",
              "      label.textContent = `Downloading \"${filename}\": `;\n",
              "      div.appendChild(label);\n",
              "      const progress = document.createElement('progress');\n",
              "      progress.max = size;\n",
              "      div.appendChild(progress);\n",
              "      document.body.appendChild(div);\n",
              "\n",
              "      const buffers = [];\n",
              "      let downloaded = 0;\n",
              "\n",
              "      const channel = await google.colab.kernel.comms.open(id);\n",
              "      // Send a message to notify the kernel that we're ready.\n",
              "      channel.send({})\n",
              "\n",
              "      for await (const message of channel.messages) {\n",
              "        // Send a message to notify the kernel that we're ready.\n",
              "        channel.send({})\n",
              "        if (message.buffers) {\n",
              "          for (const buffer of message.buffers) {\n",
              "            buffers.push(buffer);\n",
              "            downloaded += buffer.byteLength;\n",
              "            progress.value = downloaded;\n",
              "          }\n",
              "        }\n",
              "      }\n",
              "      const blob = new Blob(buffers, {type: 'application/binary'});\n",
              "      const a = document.createElement('a');\n",
              "      a.href = window.URL.createObjectURL(blob);\n",
              "      a.download = filename;\n",
              "      div.appendChild(a);\n",
              "      a.click();\n",
              "      div.remove();\n",
              "    }\n",
              "  "
            ],
            "text/plain": [
              "<IPython.core.display.Javascript object>"
            ]
          },
          "metadata": {}
        },
        {
          "output_type": "display_data",
          "data": {
            "application/javascript": [
              "download(\"download_78cf08e3-9aef-4f75-88b1-9750f519792a\", \"listings_main.csv\", 93553143)"
            ],
            "text/plain": [
              "<IPython.core.display.Javascript object>"
            ]
          },
          "metadata": {}
        }
      ]
    },
    {
      "cell_type": "markdown",
      "metadata": {
        "id": "ckP70Z-MTnj5"
      },
      "source": [
        "### **Reviews data selection**"
      ]
    },
    {
      "cell_type": "code",
      "metadata": {
        "colab": {
          "base_uri": "https://localhost:8080/"
        },
        "id": "1zSkWVPhTOwI",
        "outputId": "3d1499b6-8f93-4e75-e8a0-497bdbd46a15"
      },
      "source": [
        "reviews_df = pd.read_csv('/content/PRESANA/hawaii_airBnbGroup/hawaii_airbnbopendataset/reviews_2021-10-11.csv')\n",
        "reviews_df['date'] = pd.to_datetime(reviews_df['date'])\n",
        "reviews_df = reviews_df.sort_values(['date', 'id'])\n",
        "reviews_df = reviews_df.reset_index(drop=True)\n",
        "reviews_df.info()"
      ],
      "execution_count": null,
      "outputs": [
        {
          "output_type": "stream",
          "name": "stdout",
          "text": [
            "<class 'pandas.core.frame.DataFrame'>\n",
            "RangeIndex: 676791 entries, 0 to 676790\n",
            "Data columns (total 6 columns):\n",
            " #   Column         Non-Null Count   Dtype         \n",
            "---  ------         --------------   -----         \n",
            " 0   listing_id     676791 non-null  int64         \n",
            " 1   id             676791 non-null  int64         \n",
            " 2   date           676791 non-null  datetime64[ns]\n",
            " 3   reviewer_id    676791 non-null  int64         \n",
            " 4   reviewer_name  676791 non-null  object        \n",
            " 5   comments       676431 non-null  object        \n",
            "dtypes: datetime64[ns](1), int64(3), object(2)\n",
            "memory usage: 31.0+ MB\n"
          ]
        }
      ]
    },
    {
      "cell_type": "code",
      "metadata": {
        "colab": {
          "base_uri": "https://localhost:8080/",
          "height": 17
        },
        "id": "Q-_8gV2HdrRK",
        "outputId": "ffb7db73-a160-4607-eea0-54cbbac96a53"
      },
      "source": [
        "prtn1, prtn2, prtn3, prtn4 = np.array_split(reviews_df, 4)\n",
        "\n",
        "reviews_df1 = pd.DataFrame(prtn1)\n",
        "reviews_df2 = pd.DataFrame(prtn2)\n",
        "reviews_df3 = pd.DataFrame(prtn3)\n",
        "reviews_df4 = pd.DataFrame(prtn4)\n",
        "\n",
        "reviews_df1.to_csv(os.path.join(base_dir, 'reviews_main_part1.csv'), index=False)\n",
        "reviews_df2.to_csv(os.path.join(base_dir, 'reviews_main_part2.csv'), index=False)\n",
        "reviews_df3.to_csv(os.path.join(base_dir, 'reviews_main_part3.csv'), index=False)\n",
        "reviews_df4.to_csv(os.path.join(base_dir, 'reviews_main_part4.csv'), index=False)\n",
        "\n",
        "files.download(os.path.join(base_dir, 'reviews_main_part1.csv'))\n",
        "files.download(os.path.join(base_dir, 'reviews_main_part2.csv'))\n",
        "files.download(os.path.join(base_dir, 'reviews_main_part3.csv'))\n",
        "files.download(os.path.join(base_dir, 'reviews_main_part4.csv'))"
      ],
      "execution_count": null,
      "outputs": [
        {
          "output_type": "display_data",
          "data": {
            "application/javascript": [
              "\n",
              "    async function download(id, filename, size) {\n",
              "      if (!google.colab.kernel.accessAllowed) {\n",
              "        return;\n",
              "      }\n",
              "      const div = document.createElement('div');\n",
              "      const label = document.createElement('label');\n",
              "      label.textContent = `Downloading \"${filename}\": `;\n",
              "      div.appendChild(label);\n",
              "      const progress = document.createElement('progress');\n",
              "      progress.max = size;\n",
              "      div.appendChild(progress);\n",
              "      document.body.appendChild(div);\n",
              "\n",
              "      const buffers = [];\n",
              "      let downloaded = 0;\n",
              "\n",
              "      const channel = await google.colab.kernel.comms.open(id);\n",
              "      // Send a message to notify the kernel that we're ready.\n",
              "      channel.send({})\n",
              "\n",
              "      for await (const message of channel.messages) {\n",
              "        // Send a message to notify the kernel that we're ready.\n",
              "        channel.send({})\n",
              "        if (message.buffers) {\n",
              "          for (const buffer of message.buffers) {\n",
              "            buffers.push(buffer);\n",
              "            downloaded += buffer.byteLength;\n",
              "            progress.value = downloaded;\n",
              "          }\n",
              "        }\n",
              "      }\n",
              "      const blob = new Blob(buffers, {type: 'application/binary'});\n",
              "      const a = document.createElement('a');\n",
              "      a.href = window.URL.createObjectURL(blob);\n",
              "      a.download = filename;\n",
              "      div.appendChild(a);\n",
              "      a.click();\n",
              "      div.remove();\n",
              "    }\n",
              "  "
            ],
            "text/plain": [
              "<IPython.core.display.Javascript object>"
            ]
          },
          "metadata": {}
        },
        {
          "output_type": "display_data",
          "data": {
            "application/javascript": [
              "download(\"download_0e7382f1-0213-415b-8655-027e2fa294f4\", \"reviews_main_part1.csv\", 72836852)"
            ],
            "text/plain": [
              "<IPython.core.display.Javascript object>"
            ]
          },
          "metadata": {}
        },
        {
          "output_type": "display_data",
          "data": {
            "application/javascript": [
              "\n",
              "    async function download(id, filename, size) {\n",
              "      if (!google.colab.kernel.accessAllowed) {\n",
              "        return;\n",
              "      }\n",
              "      const div = document.createElement('div');\n",
              "      const label = document.createElement('label');\n",
              "      label.textContent = `Downloading \"${filename}\": `;\n",
              "      div.appendChild(label);\n",
              "      const progress = document.createElement('progress');\n",
              "      progress.max = size;\n",
              "      div.appendChild(progress);\n",
              "      document.body.appendChild(div);\n",
              "\n",
              "      const buffers = [];\n",
              "      let downloaded = 0;\n",
              "\n",
              "      const channel = await google.colab.kernel.comms.open(id);\n",
              "      // Send a message to notify the kernel that we're ready.\n",
              "      channel.send({})\n",
              "\n",
              "      for await (const message of channel.messages) {\n",
              "        // Send a message to notify the kernel that we're ready.\n",
              "        channel.send({})\n",
              "        if (message.buffers) {\n",
              "          for (const buffer of message.buffers) {\n",
              "            buffers.push(buffer);\n",
              "            downloaded += buffer.byteLength;\n",
              "            progress.value = downloaded;\n",
              "          }\n",
              "        }\n",
              "      }\n",
              "      const blob = new Blob(buffers, {type: 'application/binary'});\n",
              "      const a = document.createElement('a');\n",
              "      a.href = window.URL.createObjectURL(blob);\n",
              "      a.download = filename;\n",
              "      div.appendChild(a);\n",
              "      a.click();\n",
              "      div.remove();\n",
              "    }\n",
              "  "
            ],
            "text/plain": [
              "<IPython.core.display.Javascript object>"
            ]
          },
          "metadata": {}
        },
        {
          "output_type": "display_data",
          "data": {
            "application/javascript": [
              "download(\"download_b763ffab-075f-406b-9831-826f241cad64\", \"reviews_main_part2.csv\", 60770809)"
            ],
            "text/plain": [
              "<IPython.core.display.Javascript object>"
            ]
          },
          "metadata": {}
        },
        {
          "output_type": "display_data",
          "data": {
            "application/javascript": [
              "\n",
              "    async function download(id, filename, size) {\n",
              "      if (!google.colab.kernel.accessAllowed) {\n",
              "        return;\n",
              "      }\n",
              "      const div = document.createElement('div');\n",
              "      const label = document.createElement('label');\n",
              "      label.textContent = `Downloading \"${filename}\": `;\n",
              "      div.appendChild(label);\n",
              "      const progress = document.createElement('progress');\n",
              "      progress.max = size;\n",
              "      div.appendChild(progress);\n",
              "      document.body.appendChild(div);\n",
              "\n",
              "      const buffers = [];\n",
              "      let downloaded = 0;\n",
              "\n",
              "      const channel = await google.colab.kernel.comms.open(id);\n",
              "      // Send a message to notify the kernel that we're ready.\n",
              "      channel.send({})\n",
              "\n",
              "      for await (const message of channel.messages) {\n",
              "        // Send a message to notify the kernel that we're ready.\n",
              "        channel.send({})\n",
              "        if (message.buffers) {\n",
              "          for (const buffer of message.buffers) {\n",
              "            buffers.push(buffer);\n",
              "            downloaded += buffer.byteLength;\n",
              "            progress.value = downloaded;\n",
              "          }\n",
              "        }\n",
              "      }\n",
              "      const blob = new Blob(buffers, {type: 'application/binary'});\n",
              "      const a = document.createElement('a');\n",
              "      a.href = window.URL.createObjectURL(blob);\n",
              "      a.download = filename;\n",
              "      div.appendChild(a);\n",
              "      a.click();\n",
              "      div.remove();\n",
              "    }\n",
              "  "
            ],
            "text/plain": [
              "<IPython.core.display.Javascript object>"
            ]
          },
          "metadata": {}
        },
        {
          "output_type": "display_data",
          "data": {
            "application/javascript": [
              "download(\"download_ef79ddd8-dbd4-43c4-b5e1-b1bd283c8f52\", \"reviews_main_part3.csv\", 57463805)"
            ],
            "text/plain": [
              "<IPython.core.display.Javascript object>"
            ]
          },
          "metadata": {}
        },
        {
          "output_type": "display_data",
          "data": {
            "application/javascript": [
              "\n",
              "    async function download(id, filename, size) {\n",
              "      if (!google.colab.kernel.accessAllowed) {\n",
              "        return;\n",
              "      }\n",
              "      const div = document.createElement('div');\n",
              "      const label = document.createElement('label');\n",
              "      label.textContent = `Downloading \"${filename}\": `;\n",
              "      div.appendChild(label);\n",
              "      const progress = document.createElement('progress');\n",
              "      progress.max = size;\n",
              "      div.appendChild(progress);\n",
              "      document.body.appendChild(div);\n",
              "\n",
              "      const buffers = [];\n",
              "      let downloaded = 0;\n",
              "\n",
              "      const channel = await google.colab.kernel.comms.open(id);\n",
              "      // Send a message to notify the kernel that we're ready.\n",
              "      channel.send({})\n",
              "\n",
              "      for await (const message of channel.messages) {\n",
              "        // Send a message to notify the kernel that we're ready.\n",
              "        channel.send({})\n",
              "        if (message.buffers) {\n",
              "          for (const buffer of message.buffers) {\n",
              "            buffers.push(buffer);\n",
              "            downloaded += buffer.byteLength;\n",
              "            progress.value = downloaded;\n",
              "          }\n",
              "        }\n",
              "      }\n",
              "      const blob = new Blob(buffers, {type: 'application/binary'});\n",
              "      const a = document.createElement('a');\n",
              "      a.href = window.URL.createObjectURL(blob);\n",
              "      a.download = filename;\n",
              "      div.appendChild(a);\n",
              "      a.click();\n",
              "      div.remove();\n",
              "    }\n",
              "  "
            ],
            "text/plain": [
              "<IPython.core.display.Javascript object>"
            ]
          },
          "metadata": {}
        },
        {
          "output_type": "display_data",
          "data": {
            "application/javascript": [
              "download(\"download_c7c96671-cc0b-4053-a14a-efed99b08d66\", \"reviews_main_part4.csv\", 60284344)"
            ],
            "text/plain": [
              "<IPython.core.display.Javascript object>"
            ]
          },
          "metadata": {}
        }
      ]
    }
  ]
}