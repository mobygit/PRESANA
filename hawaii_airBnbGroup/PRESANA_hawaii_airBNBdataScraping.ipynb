{
  "nbformat": 4,
  "nbformat_minor": 0,
  "metadata": {
    "colab": {
      "name": "PRESANA_hawaii_airBNBdataScraping.ipynb",
      "provenance": [],
      "collapsed_sections": []
    },
    "kernelspec": {
      "name": "python3",
      "display_name": "Python 3"
    },
    "language_info": {
      "name": "python"
    }
  },
  "cells": [
    {
      "cell_type": "code",
      "metadata": {
        "id": "-btqLsDnp25u"
      },
      "source": [
        "import requests\n",
        "import os\n",
        "from google.colab import files"
      ],
      "execution_count": 1,
      "outputs": []
    },
    {
      "cell_type": "code",
      "metadata": {
        "id": "_QR8BXBhq4hx"
      },
      "source": [
        "base_dir = '/content/hawaii_airbnbopendataset/'\n",
        "\n",
        "try:\n",
        "    os.mkdir(base_dir)\n",
        "except:\n",
        "    pass\n",
        "\n",
        "dates = ['2020-12-18', '2021-01-14', '2021-02-10', '2021-03-07', '2021-04-14', '2021-06-22', '2021-07-08', '2021-08-09', '2021-09-12', '2021-10-11']"
      ],
      "execution_count": 2,
      "outputs": []
    },
    {
      "cell_type": "code",
      "metadata": {
        "id": "CBpHGrCWrGJR"
      },
      "source": [
        "def dl_gz(url, gz_file):\n",
        "    r = requests.get(url, allow_redirects=True)\n",
        "    opn_zipFile = open(gz_file, 'wb')\n",
        "    opn_zipFile.write(r.content)"
      ],
      "execution_count": 3,
      "outputs": []
    },
    {
      "cell_type": "code",
      "metadata": {
        "id": "XMC6USrouXae"
      },
      "source": [
        "for i in dates:\n",
        "    calendar_url = 'http://data.insideairbnb.com/united-states/hi/hawaii/'+ i +'/data/calendar.csv.gz'\n",
        "    listings_url = 'http://data.insideairbnb.com/united-states/hi/hawaii/'+ i +'/data/listings.csv.gz'\n",
        "    reviews_url = 'http://data.insideairbnb.com/united-states/hi/hawaii/'+ i +'/data/reviews.csv.gz'\n",
        "\n",
        "    calendar_gz = os.path.join(base_dir, 'calendar_'+ i +'.csv.gz')\n",
        "    listings_gz = os.path.join(base_dir, 'listings_'+ i +'.csv.gz')\n",
        "    reviews_gz = os.path.join(base_dir, 'reviews_'+ i +'.csv.gz')\n",
        "\n",
        "    dl_gz(calendar_url, calendar_gz)\n",
        "    dl_gz(listings_url, listings_gz)\n",
        "    dl_gz(reviews_url, reviews_gz)\n",
        "\n",
        "    files.download(calendar_gz)\n",
        "    files.download(listings_gz)\n",
        "    files.download(reviews_gz)"
      ],
      "execution_count": 4,
      "outputs": []
    }
  ]
}