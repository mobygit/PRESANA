{
 "cells": [
  {
   "cell_type": "code",
   "execution_count": 1,
   "metadata": {},
   "outputs": [
    {
     "name": "stdout",
     "output_type": "stream",
     "text": [
      "Requirement already satisfied: pulp in c:\\users\\19034\\anaconda3\\lib\\site-packages (2.0)\n",
      "Requirement already satisfied: pyparsing>=2.0.1 in c:\\users\\19034\\anaconda3\\lib\\site-packages (from pulp) (2.4.2)\n",
      "Note: you may need to restart the kernel to use updated packages.\n"
     ]
    }
   ],
   "source": [
    "pip install pulp"
   ]
  },
  {
   "cell_type": "code",
   "execution_count": 2,
   "metadata": {},
   "outputs": [
    {
     "name": "stdout",
     "output_type": "stream",
     "text": [
      "Decision Variable Values:\n",
      "D = 252.0\n",
      "S = 540.0\n",
      "\n",
      "Maximum Profit: 7668.0\n",
      "                  Constraint Names  Slack Values  Shadow Prices\n",
      "0  Constraint_for_Cutting_&_Dyeing          -0.0         4.3750\n",
      "1            Constraint_for_Sewing         120.0        -0.0000\n",
      "2         Constraint_for_Finishing          -0.0         6.9375\n",
      "3               Constraint_for_I&P          18.0        -0.0000\n"
     ]
    }
   ],
   "source": [
    "import pulp\n",
    "import pandas\n",
    "\n",
    "D=pulp.LpVariable('D',lowBound=0)\n",
    "S=pulp.LpVariable('S',lowBound=0)\n",
    "\n",
    "profit=pulp.LpProblem('Maximum Profit',pulp.LpMaximize)\n",
    "profit+=10*S+9*D,'Objective Function'\n",
    "profit+=7/10*S+D<=630,'Constraint for Cutting & Dyeing'\n",
    "profit+=1/2*S+5/6*D<=600,'Constraint for Sewing'\n",
    "profit+=S+2/3*D<=708,'Constraint for Finishing'\n",
    "profit+=1/10*S+1/4*D<=135,'Constraint for I&P'\n",
    "\n",
    "profit.solve()\n",
    "\n",
    "print('Decision Variable Values:')\n",
    "\n",
    "for variable in profit.variables():\n",
    "    print(variable.name,'=',variable.varValue)\n",
    "    \n",
    "\n",
    "print('\\nMaximum Profit:',pulp.value(profit.objective))\n",
    "\n",
    "sr=[{'Constraint Names':cname,'Slack Values':cinfo.slack,'Shadow Prices':cinfo.pi} for cname, cinfo in profit.constraints.items()]\n",
    "print(pandas.DataFrame(sr))"
   ]
  },
  {
   "cell_type": "code",
   "execution_count": null,
   "metadata": {},
   "outputs": [],
   "source": []
  }
 ],
 "metadata": {
  "kernelspec": {
   "display_name": "Python 3.9.12 ('base')",
   "language": "python",
   "name": "python3"
  },
  "language_info": {
   "codemirror_mode": {
    "name": "ipython",
    "version": 3
   },
   "file_extension": ".py",
   "mimetype": "text/x-python",
   "name": "python",
   "nbconvert_exporter": "python",
   "pygments_lexer": "ipython3",
   "version": "3.9.12"
  },
  "vscode": {
   "interpreter": {
    "hash": "a0c5b2d83942f5d81cb466efd8ac78da06ad7a2514af390ec957933e585d8b9f"
   }
  }
 },
 "nbformat": 4,
 "nbformat_minor": 2
}
