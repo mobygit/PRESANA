{
 "cells": [
  {
   "cell_type": "markdown",
   "id": "f2e0cadd",
   "metadata": {},
   "source": [
    "# \"Step 0: Install pip gurobipy package\""
   ]
  },
  {
   "cell_type": "code",
   "execution_count": 22,
   "id": "87bf0f76",
   "metadata": {},
   "outputs": [
    {
     "name": "stdout",
     "output_type": "stream",
     "text": [
      "Requirement already satisfied: gurobipy in c:\\users\\ninonarido\\anaconda3\\lib\\site-packages (9.1.2)\n",
      "Note: you may need to restart the kernel to use updated packages.\n"
     ]
    }
   ],
   "source": [
    "pip install gurobipy"
   ]
  },
  {
   "cell_type": "markdown",
   "id": "21cf5c28",
   "metadata": {},
   "source": [
    "# \"Step 1: Importing gurobipy package\""
   ]
  },
  {
   "cell_type": "code",
   "execution_count": 23,
   "id": "4fe5bf92",
   "metadata": {},
   "outputs": [],
   "source": [
    "from gurobipy import *"
   ]
  },
  {
   "cell_type": "markdown",
   "id": "1d171409",
   "metadata": {},
   "source": [
    "# Step 2: Create an optimization model"
   ]
  },
  {
   "cell_type": "code",
   "execution_count": 4,
   "id": "15e9dda4",
   "metadata": {},
   "outputs": [
    {
     "name": "stdout",
     "output_type": "stream",
     "text": [
      "Restricted license - for non-production use only - expires 2022-01-13\n"
     ]
    }
   ],
   "source": [
    "ilp_model = Model(\"ilp\")"
   ]
  },
  {
   "cell_type": "markdown",
   "id": "79b948f8",
   "metadata": {},
   "source": [
    "# Step  3: Add decision variables"
   ]
  },
  {
   "cell_type": "code",
   "execution_count": 6,
   "id": "a73dd167",
   "metadata": {},
   "outputs": [],
   "source": [
    "x = ilp_model.addVar(vtype=GRB.BINARY, name=\"x\")\n",
    "y = ilp_model.addVar(vtype=GRB.CONTINUOUS, lb=0, name=\"y\")\n",
    "z = ilp_model.addVar(vtype=GRB.INTEGER, lb=0, name=\"z\")"
   ]
  },
  {
   "cell_type": "markdown",
   "id": "8ec45641",
   "metadata": {},
   "source": [
    "# Step 4: Define the objective function"
   ]
  },
  {
   "cell_type": "code",
   "execution_count": 12,
   "id": "5908841a",
   "metadata": {},
   "outputs": [],
   "source": [
    "obj_fn = 2 * x + y + 3 * z\n",
    "ilp_model.setObjective(obj_fn, GRB.MAXIMIZE)"
   ]
  },
  {
   "cell_type": "markdown",
   "id": "f8156362",
   "metadata": {},
   "source": [
    "# Step 5: Add the contraints"
   ]
  },
  {
   "cell_type": "code",
   "execution_count": 13,
   "id": "8e17f3a6",
   "metadata": {},
   "outputs": [],
   "source": [
    "# Add constraint:  x + 2y + z <= 4\n",
    "c1 = ilp_model.addConstr(x + 2 * y + z <= 4, \"c1\")\n",
    "\n",
    "# Add constraint:  2  z + y <= 5 \\\\\n",
    "c1 = ilp_model.addConstr(2 * z + y <= 5, \"c2\")\n",
    "\n",
    "# Add constraint:  x + y >= 1\n",
    "c1 = ilp_model.addConstr(x + y >= 1, \"c3\")"
   ]
  },
  {
   "cell_type": "markdown",
   "id": "1b5f3958",
   "metadata": {},
   "source": [
    "# Step 6: Solve the model"
   ]
  },
  {
   "cell_type": "code",
   "execution_count": 15,
   "id": "d8517f6a",
   "metadata": {},
   "outputs": [
    {
     "name": "stdout",
     "output_type": "stream",
     "text": [
      "Gurobi Optimizer version 9.1.2 build v9.1.2rc0 (win64)\n",
      "Thread count: 4 physical cores, 8 logical processors, using up to 8 threads\n",
      "Optimize a model with 3 rows, 3 columns and 7 nonzeros\n",
      "Model fingerprint: 0x0a1b864e\n",
      "Variable types: 1 continuous, 2 integer (1 binary)\n",
      "Coefficient statistics:\n",
      "  Matrix range     [1e+00, 2e+00]\n",
      "  Objective range  [1e+00, 3e+00]\n",
      "  Bounds range     [1e+00, 1e+00]\n",
      "  RHS range        [1e+00, 5e+00]\n",
      "Found heuristic solution: objective 3.5000000\n",
      "Presolve removed 3 rows and 3 columns\n",
      "Presolve time: 0.00s\n",
      "Presolve: All rows and columns removed\n",
      "\n",
      "Explored 0 nodes (0 simplex iterations) in 0.01 seconds\n",
      "Thread count was 1 (of 8 available processors)\n",
      "\n",
      "Solution count 2: 8.5 3.5 \n",
      "\n",
      "Optimal solution found (tolerance 1.00e-04)\n",
      "Best objective 8.500000000000e+00, best bound 8.500000000000e+00, gap 0.0000%\n"
     ]
    }
   ],
   "source": [
    "ilp_model.optimize()"
   ]
  },
  {
   "cell_type": "markdown",
   "id": "23e057ff",
   "metadata": {},
   "source": [
    "# Step 7: Show the result"
   ]
  },
  {
   "cell_type": "code",
   "execution_count": 16,
   "id": "76e2c65c",
   "metadata": {},
   "outputs": [
    {
     "name": "stdout",
     "output_type": "stream",
     "text": [
      "Objective Function Value: 8.50\n",
      "x: 1\n",
      "y: 0.5\n",
      "z: 2\n"
     ]
    }
   ],
   "source": [
    "print('Objective Function Value: %.2f' % ilp_model.objVal)\n",
    "\n",
    "# Get value of the decision variables\n",
    "\n",
    "for v in ilp_model.getVars():\n",
    "      print ('%s: %g' % (v.varName, v.x))"
   ]
  }
 ],
 "metadata": {
  "kernelspec": {
   "display_name": "Python 3.9.12 ('base')",
   "language": "python",
   "name": "python3"
  },
  "language_info": {
   "codemirror_mode": {
    "name": "ipython",
    "version": 3
   },
   "file_extension": ".py",
   "mimetype": "text/x-python",
   "name": "python",
   "nbconvert_exporter": "python",
   "pygments_lexer": "ipython3",
   "version": "3.9.12"
  },
  "vscode": {
   "interpreter": {
    "hash": "a0c5b2d83942f5d81cb466efd8ac78da06ad7a2514af390ec957933e585d8b9f"
   }
  }
 },
 "nbformat": 4,
 "nbformat_minor": 5
}
